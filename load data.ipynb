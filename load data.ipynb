{
  "nbformat": 4,
  "nbformat_minor": 0,
  "metadata": {
    "colab": {
      "name": "Untitled3.ipynb",
      "provenance": [],
      "machine_shape": "hm",
      "authorship_tag": "ABX9TyPNtHd4viyTS5zytejoXoA5",
      "include_colab_link": true
    },
    "kernelspec": {
      "name": "python3",
      "display_name": "Python 3"
    },
    "accelerator": "GPU"
  },
  "cells": [
    {
      "cell_type": "markdown",
      "metadata": {
        "id": "view-in-github",
        "colab_type": "text"
      },
      "source": [
        "<a href=\"https://colab.research.google.com/github/eslamalaa10/fruits-360_dataset/blob/master/Untitled3.ipynb\" target=\"_parent\"><img src=\"https://colab.research.google.com/assets/colab-badge.svg\" alt=\"Open In Colab\"/></a>"
      ]
    },
    {
      "cell_type": "code",
      "metadata": {
        "id": "hRdoIaPJbwd_",
        "colab_type": "code",
        "outputId": "4ba0ca30-3c6c-440a-ab59-2e4f8753792f",
        "colab": {
          "base_uri": "https://localhost:8080/",
          "height": 119
        }
      },
      "source": [
        "!git clone https://github.com/eslamalaa10/fruits-360_dataset.git"
      ],
      "execution_count": 1,
      "outputs": [
        {
          "output_type": "stream",
          "text": [
            "Cloning into 'fruits-360_dataset'...\n",
            "remote: Enumerating objects: 80947, done.\u001b[K\n",
            "remote: Total 80947 (delta 0), reused 0 (delta 0), pack-reused 80947\u001b[K\n",
            "Receiving objects: 100% (80947/80947), 343.90 MiB | 35.20 MiB/s, done.\n",
            "Resolving deltas: 100% (20/20), done.\n",
            "Checking out files: 100% (81120/81120), done.\n"
          ],
          "name": "stdout"
        }
      ]
    },
    {
      "cell_type": "code",
      "metadata": {
        "id": "mXqfAm1AbMeU",
        "colab_type": "code",
        "colab": {}
      },
      "source": [
        "\n",
        "import numpy as np\n",
        "import os\n",
        "from imutils import paths\n",
        "import cv2\n",
        "import pandas as pd\n"
      ],
      "execution_count": 0,
      "outputs": []
    },
    {
      "cell_type": "code",
      "metadata": {
        "id": "y1Qek0u72-Wi",
        "colab_type": "code",
        "colab": {}
      },
      "source": [
        "def load_images(path):\n",
        "  print(\"[INFO] loading images...\")\n",
        "  imagePaths = list(paths.list_images(path))\n",
        "  imagePaths.sort()\n",
        "  data = []\n",
        "  labels = []\n",
        "  for imagePath in imagePaths:\n",
        "    print(imagePath)\n",
        "    label = imagePath.split(os.path.sep)[-2]\n",
        "    image = cv2.imread(imagePath)\n",
        "    image = cv2.cvtColor(image, cv2.COLOR_BGR2RGB)\n",
        "    image = cv2.resize(image, (224, 224))\n",
        "    data.append(image)\n",
        "    labels.append(label)\n",
        "  # data = np.array(data) / 255.0 #normalization (0->255 : 0->1)\n",
        "  labels=pd.get_dummies(labels)\n",
        "  labels = np.array(labels)\n",
        "  return data,labels\n",
        "  "
      ],
      "execution_count": 0,
      "outputs": []
    },
    {
      "cell_type": "code",
      "metadata": {
        "id": "UyXrCq4ZCmn5",
        "colab_type": "code",
        "colab": {}
      },
      "source": [
        "x_test,y_test=load_images('/content/fruits-360_dataset/Test')"
      ],
      "execution_count": 0,
      "outputs": []
    },
    {
      "cell_type": "code",
      "metadata": {
        "id": "6PoyCfU5bp5c",
        "colab_type": "code",
        "colab": {}
      },
      "source": [
        "x_train,y_train=load_images('/content/fruits-360_dataset/Training')"
      ],
      "execution_count": 0,
      "outputs": []
    }
  ]
}
