{
  "nbformat": 4,
  "nbformat_minor": 0,
  "metadata": {
    "colab": {
      "name": "load data.ipynb",
      "provenance": [],
      "machine_shape": "hm",
      "authorship_tag": "ABX9TyPJSPYmieGxx2XZ4auGQiEO",
      "include_colab_link": true
    },
    "kernelspec": {
      "name": "python3",
      "display_name": "Python 3"
    },
    "accelerator": "GPU"
  },
  "cells": [
    {
      "cell_type": "markdown",
      "metadata": {
        "id": "view-in-github",
        "colab_type": "text"
      },
      "source": [
        "<a href=\"https://colab.research.google.com/github/eslamalaa10/fruits-360_dataset/blob/master/load_data.ipynb\" target=\"_parent\"><img src=\"https://colab.research.google.com/assets/colab-badge.svg\" alt=\"Open In Colab\"/></a>"
      ]
    },
    {
      "cell_type": "markdown",
      "metadata": {
        "id": "umBRMPzvGcRP",
        "colab_type": "text"
      },
      "source": [
        "# **Link Github With Colab**"
      ]
    },
    {
      "cell_type": "code",
      "metadata": {
        "id": "hRdoIaPJbwd_",
        "colab_type": "code",
        "colab": {}
      },
      "source": [
        "!git clone https://github.com/eslamalaa10/fruits-360_dataset.git"
      ],
      "execution_count": 0,
      "outputs": []
    },
    {
      "cell_type": "markdown",
      "metadata": {
        "id": "UrfoWHzBGt_o",
        "colab_type": "text"
      },
      "source": [
        "# **Import libraries**"
      ]
    },
    {
      "cell_type": "code",
      "metadata": {
        "id": "mXqfAm1AbMeU",
        "colab_type": "code",
        "colab": {}
      },
      "source": [
        "\n",
        "import numpy as np\n",
        "import os\n",
        "from imutils import paths\n",
        "import cv2\n",
        "import pandas as pd\n"
      ],
      "execution_count": 0,
      "outputs": []
    },
    {
      "cell_type": "markdown",
      "metadata": {
        "id": "Cr5haNZaHACW",
        "colab_type": "text"
      },
      "source": [
        "# **Function To Read Data Form Given Path**"
      ]
    },
    {
      "cell_type": "code",
      "metadata": {
        "id": "y1Qek0u72-Wi",
        "colab_type": "code",
        "colab": {}
      },
      "source": [
        "def load_images(path):\n",
        "  print(\"[INFO] loading images...\")\n",
        "  imagePaths = list(paths.list_images(path))\n",
        "  imagePaths.sort()\n",
        "  data = []\n",
        "  labels = []\n",
        "  for imagePath in imagePaths:\n",
        "    print(imagePath)\n",
        "    label = imagePath.split(os.path.sep)[-2]\n",
        "    image = cv2.imread(imagePath)\n",
        "    image = cv2.cvtColor(image, cv2.COLOR_BGR2RGB)\n",
        "    image = cv2.resize(image, (224, 224))\n",
        "    data.append(image)\n",
        "    labels.append(label)\n",
        "  # data = np.array(data) / 255.0 #normalization (0->255 : 0->1)\n",
        "  data = np.array(data)\n",
        "  labels=pd.get_dummies(labels)\n",
        "  labels = np.array(labels)\n",
        "  return data,labels\n",
        "  "
      ],
      "execution_count": 0,
      "outputs": []
    },
    {
      "cell_type": "markdown",
      "metadata": {
        "id": "KLVjw1HcHTG0",
        "colab_type": "text"
      },
      "source": [
        "# **Call Function And Use It**"
      ]
    },
    {
      "cell_type": "code",
      "metadata": {
        "id": "UyXrCq4ZCmn5",
        "colab_type": "code",
        "colab": {}
      },
      "source": [
        "x_test,y_test=load_images('/content/fruits-360_dataset/Test')"
      ],
      "execution_count": 0,
      "outputs": []
    },
    {
      "cell_type": "code",
      "metadata": {
        "id": "6PoyCfU5bp5c",
        "colab_type": "code",
        "colab": {}
      },
      "source": [
        "x_train,y_train=load_images('/content/fruits-360_dataset/Training')"
      ],
      "execution_count": 0,
      "outputs": []
    }
  ]
}